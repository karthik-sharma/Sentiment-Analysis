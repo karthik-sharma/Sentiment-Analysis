{
 "cells": [
  {
   "cell_type": "markdown",
   "id": "d465a0b0",
   "metadata": {
    "papermill": {
     "duration": 0.008156,
     "end_time": "2024-11-06T06:37:57.463836",
     "exception": false,
     "start_time": "2024-11-06T06:37:57.455680",
     "status": "completed"
    },
    "tags": []
   },
   "source": [
    "<h1><font=\"5\">INTRODUCTION</font></h1>\n",
    "<P>Sentiment Analyzers are a part of Natural Language Processing (NLP). NLP, simply put, is a machine learning technology that allows computers to understand human language. Chances are, you're already familiar with this technology or have even used it yourself! Smart assistants like Siri and Alexa, chatbots like ChatGPT and Gemini, and tools like Grammarly all leverage NLP.\n",
    "\n",
    "Sentiment Analysis, also referred to as opinion mining, is a specific application within NLP focused on analyzing the emotional tone of text. It aims to classify text as positive, negative, or neutral. For instance, classifying YouTube comments under a video helps creators understand what type of content resonates with their viewers. Similarly, analyzing product reviews helps companies gauge how well their products are performing in the market. As you can see, sentiment analysis holds significant importance. Now that you have a basic understanding of this field, let's waste no more time and dive into the project itself!</P>"
   ]
  },
  {
   "cell_type": "code",
   "execution_count": 1,
   "id": "f7819cfe",
   "metadata": {
    "execution": {
     "iopub.execute_input": "2024-11-06T06:37:57.480899Z",
     "iopub.status.busy": "2024-11-06T06:37:57.480358Z",
     "iopub.status.idle": "2024-11-06T06:37:59.896483Z",
     "shell.execute_reply": "2024-11-06T06:37:59.895212Z"
    },
    "papermill": {
     "duration": 2.427804,
     "end_time": "2024-11-06T06:37:59.899267",
     "exception": false,
     "start_time": "2024-11-06T06:37:57.471463",
     "status": "completed"
    },
    "tags": []
   },
   "outputs": [],
   "source": [
    "# import all the necessary libraries\n",
    "import pandas as pd\n",
    "import seaborn as sns"
   ]
  },
  {
   "cell_type": "code",
   "execution_count": 2,
   "id": "400ee5cf",
   "metadata": {
    "execution": {
     "iopub.execute_input": "2024-11-06T06:37:59.916603Z",
     "iopub.status.busy": "2024-11-06T06:37:59.916040Z",
     "iopub.status.idle": "2024-11-06T06:38:00.194645Z",
     "shell.execute_reply": "2024-11-06T06:38:00.193499Z"
    },
    "papermill": {
     "duration": 0.290186,
     "end_time": "2024-11-06T06:38:00.197301",
     "exception": false,
     "start_time": "2024-11-06T06:37:59.907115",
     "status": "completed"
    },
    "tags": []
   },
   "outputs": [
    {
     "data": {
      "text/html": [
       "<div>\n",
       "<style scoped>\n",
       "    .dataframe tbody tr th:only-of-type {\n",
       "        vertical-align: middle;\n",
       "    }\n",
       "\n",
       "    .dataframe tbody tr th {\n",
       "        vertical-align: top;\n",
       "    }\n",
       "\n",
       "    .dataframe thead th {\n",
       "        text-align: right;\n",
       "    }\n",
       "</style>\n",
       "<table border=\"1\" class=\"dataframe\">\n",
       "  <thead>\n",
       "    <tr style=\"text-align: right;\">\n",
       "      <th></th>\n",
       "      <th>Review</th>\n",
       "      <th>label</th>\n",
       "    </tr>\n",
       "  </thead>\n",
       "  <tbody>\n",
       "    <tr>\n",
       "      <th>0</th>\n",
       "      <td>Great music service, the audio is high quality...</td>\n",
       "      <td>POSITIVE</td>\n",
       "    </tr>\n",
       "    <tr>\n",
       "      <th>1</th>\n",
       "      <td>Please ignore previous negative rating. This a...</td>\n",
       "      <td>POSITIVE</td>\n",
       "    </tr>\n",
       "    <tr>\n",
       "      <th>2</th>\n",
       "      <td>This pop-up \"Get the best Spotify experience o...</td>\n",
       "      <td>NEGATIVE</td>\n",
       "    </tr>\n",
       "    <tr>\n",
       "      <th>3</th>\n",
       "      <td>Really buggy and terrible to use as of recently</td>\n",
       "      <td>NEGATIVE</td>\n",
       "    </tr>\n",
       "    <tr>\n",
       "      <th>4</th>\n",
       "      <td>Dear Spotify why do I get songs that I didn't ...</td>\n",
       "      <td>NEGATIVE</td>\n",
       "    </tr>\n",
       "    <tr>\n",
       "      <th>5</th>\n",
       "      <td>The player controls sometimes disappear for no...</td>\n",
       "      <td>NEGATIVE</td>\n",
       "    </tr>\n",
       "    <tr>\n",
       "      <th>6</th>\n",
       "      <td>I love the selection and the lyrics are provid...</td>\n",
       "      <td>POSITIVE</td>\n",
       "    </tr>\n",
       "    <tr>\n",
       "      <th>7</th>\n",
       "      <td>Still extremely slow when changing storage to ...</td>\n",
       "      <td>NEGATIVE</td>\n",
       "    </tr>\n",
       "    <tr>\n",
       "      <th>8</th>\n",
       "      <td>It's a great app and the best mp3 music app I ...</td>\n",
       "      <td>POSITIVE</td>\n",
       "    </tr>\n",
       "    <tr>\n",
       "      <th>9</th>\n",
       "      <td>I'm deleting this app, for the following reaso...</td>\n",
       "      <td>NEGATIVE</td>\n",
       "    </tr>\n",
       "  </tbody>\n",
       "</table>\n",
       "</div>"
      ],
      "text/plain": [
       "                                              Review     label\n",
       "0  Great music service, the audio is high quality...  POSITIVE\n",
       "1  Please ignore previous negative rating. This a...  POSITIVE\n",
       "2  This pop-up \"Get the best Spotify experience o...  NEGATIVE\n",
       "3    Really buggy and terrible to use as of recently  NEGATIVE\n",
       "4  Dear Spotify why do I get songs that I didn't ...  NEGATIVE\n",
       "5  The player controls sometimes disappear for no...  NEGATIVE\n",
       "6  I love the selection and the lyrics are provid...  POSITIVE\n",
       "7  Still extremely slow when changing storage to ...  NEGATIVE\n",
       "8  It's a great app and the best mp3 music app I ...  POSITIVE\n",
       "9  I'm deleting this app, for the following reaso...  NEGATIVE"
      ]
     },
     "execution_count": 2,
     "metadata": {},
     "output_type": "execute_result"
    }
   ],
   "source": [
    "# Loading the dataset\n",
    "df = pd.read_csv(\"/kaggle/input/spotify-dataset/DATASET.csv\")\n",
    "df.head(10) # view the first 10 rows of the dataframe"
   ]
  },
  {
   "cell_type": "markdown",
   "id": "46548d75",
   "metadata": {
    "papermill": {
     "duration": 0.00768,
     "end_time": "2024-11-06T06:38:00.213237",
     "exception": false,
     "start_time": "2024-11-06T06:38:00.205557",
     "status": "completed"
    },
    "tags": []
   },
   "source": [
    "<h1><font size=\"5\">BASIC EDA</font></h1>\n",
    "\n",
    "EDA (Exploratory Data Analysis) is an approach used in data science and statistics to analyze and summarize the main characteristics of a dataset, i.e. to gain a well-rounded overview of a dataset."
   ]
  },
  {
   "cell_type": "code",
   "execution_count": 3,
   "id": "1b08570b",
   "metadata": {
    "execution": {
     "iopub.execute_input": "2024-11-06T06:38:00.232065Z",
     "iopub.status.busy": "2024-11-06T06:38:00.231641Z",
     "iopub.status.idle": "2024-11-06T06:38:00.267860Z",
     "shell.execute_reply": "2024-11-06T06:38:00.266401Z"
    },
    "papermill": {
     "duration": 0.048393,
     "end_time": "2024-11-06T06:38:00.270530",
     "exception": false,
     "start_time": "2024-11-06T06:38:00.222137",
     "status": "completed"
    },
    "tags": []
   },
   "outputs": [
    {
     "name": "stdout",
     "output_type": "stream",
     "text": [
      "<class 'pandas.core.frame.DataFrame'>\n",
      "RangeIndex: 52702 entries, 0 to 52701\n",
      "Data columns (total 2 columns):\n",
      " #   Column  Non-Null Count  Dtype \n",
      "---  ------  --------------  ----- \n",
      " 0   Review  52686 non-null  object\n",
      " 1   label   52702 non-null  object\n",
      "dtypes: object(2)\n",
      "memory usage: 823.6+ KB\n"
     ]
    }
   ],
   "source": [
    "df.info() #provides a summary of the data frame\n",
    "\n",
    "#understanding the output of this code:\n",
    "#Total entries we have : 52,702\n",
    "#2 columns- \"Review\" and \"label\"\n",
    "#Review column has 52,686 non-null entries i.e. 16 null entries(52,702-52,686=16)\n",
    "#hence we have 16 missing values that need to be handled.\n",
    "#label column has all non-null entries hence no missing values.\n",
    "#Dtype is object which means data is of text/mixed type"
   ]
  },
  {
   "cell_type": "code",
   "execution_count": 4,
   "id": "93cf3b35",
   "metadata": {
    "execution": {
     "iopub.execute_input": "2024-11-06T06:38:00.288128Z",
     "iopub.status.busy": "2024-11-06T06:38:00.287713Z",
     "iopub.status.idle": "2024-11-06T06:38:00.305084Z",
     "shell.execute_reply": "2024-11-06T06:38:00.303765Z"
    },
    "papermill": {
     "duration": 0.028813,
     "end_time": "2024-11-06T06:38:00.307442",
     "exception": false,
     "start_time": "2024-11-06T06:38:00.278629",
     "status": "completed"
    },
    "tags": []
   },
   "outputs": [
    {
     "data": {
      "text/plain": [
       "Review    16\n",
       "label      0\n",
       "dtype: int64"
      ]
     },
     "execution_count": 4,
     "metadata": {},
     "output_type": "execute_result"
    }
   ],
   "source": [
    "df.isnull().sum() # Explicitly check for missing values"
   ]
  },
  {
   "cell_type": "code",
   "execution_count": 5,
   "id": "93080bdd",
   "metadata": {
    "execution": {
     "iopub.execute_input": "2024-11-06T06:38:00.325796Z",
     "iopub.status.busy": "2024-11-06T06:38:00.324820Z",
     "iopub.status.idle": "2024-11-06T06:38:00.345331Z",
     "shell.execute_reply": "2024-11-06T06:38:00.344423Z"
    },
    "papermill": {
     "duration": 0.032488,
     "end_time": "2024-11-06T06:38:00.348005",
     "exception": false,
     "start_time": "2024-11-06T06:38:00.315517",
     "status": "completed"
    },
    "tags": []
   },
   "outputs": [],
   "source": [
    "#as the missing values compromise of a small section of our dataset\n",
    "#The best approach is to just drop them.\n",
    "df = df.dropna(subset=['Review']) "
   ]
  },
  {
   "cell_type": "code",
   "execution_count": 6,
   "id": "a467caf8",
   "metadata": {
    "execution": {
     "iopub.execute_input": "2024-11-06T06:38:00.365740Z",
     "iopub.status.busy": "2024-11-06T06:38:00.365289Z",
     "iopub.status.idle": "2024-11-06T06:38:00.384833Z",
     "shell.execute_reply": "2024-11-06T06:38:00.383486Z"
    },
    "papermill": {
     "duration": 0.03111,
     "end_time": "2024-11-06T06:38:00.387196",
     "exception": false,
     "start_time": "2024-11-06T06:38:00.356086",
     "status": "completed"
    },
    "tags": []
   },
   "outputs": [
    {
     "name": "stdout",
     "output_type": "stream",
     "text": [
      "<class 'pandas.core.frame.DataFrame'>\n",
      "Index: 52686 entries, 0 to 52701\n",
      "Data columns (total 2 columns):\n",
      " #   Column  Non-Null Count  Dtype \n",
      "---  ------  --------------  ----- \n",
      " 0   Review  52686 non-null  object\n",
      " 1   label   52686 non-null  object\n",
      "dtypes: object(2)\n",
      "memory usage: 1.2+ MB\n"
     ]
    }
   ],
   "source": [
    "df.info()  # the dataset is now free of missing values!"
   ]
  },
  {
   "cell_type": "code",
   "execution_count": 7,
   "id": "d9629f12",
   "metadata": {
    "execution": {
     "iopub.execute_input": "2024-11-06T06:38:00.405623Z",
     "iopub.status.busy": "2024-11-06T06:38:00.404732Z",
     "iopub.status.idle": "2024-11-06T06:38:00.416955Z",
     "shell.execute_reply": "2024-11-06T06:38:00.415845Z"
    },
    "papermill": {
     "duration": 0.024052,
     "end_time": "2024-11-06T06:38:00.419332",
     "exception": false,
     "start_time": "2024-11-06T06:38:00.395280",
     "status": "completed"
    },
    "tags": []
   },
   "outputs": [
    {
     "data": {
      "text/plain": [
       "label\n",
       "NEGATIVE    29423\n",
       "POSITIVE    23263\n",
       "Name: count, dtype: int64"
      ]
     },
     "execution_count": 7,
     "metadata": {},
     "output_type": "execute_result"
    }
   ],
   "source": [
    "df['label'].value_counts()# Check sentiment/label distribution"
   ]
  },
  {
   "cell_type": "code",
   "execution_count": 8,
   "id": "f1587bca",
   "metadata": {
    "execution": {
     "iopub.execute_input": "2024-11-06T06:38:00.437413Z",
     "iopub.status.busy": "2024-11-06T06:38:00.437028Z",
     "iopub.status.idle": "2024-11-06T06:38:00.716397Z",
     "shell.execute_reply": "2024-11-06T06:38:00.715141Z"
    },
    "papermill": {
     "duration": 0.291417,
     "end_time": "2024-11-06T06:38:00.718990",
     "exception": false,
     "start_time": "2024-11-06T06:38:00.427573",
     "status": "completed"
    },
    "tags": []
   },
   "outputs": [
    {
     "data": {
      "text/plain": [
       "<Axes: xlabel='label', ylabel='count'>"
      ]
     },
     "execution_count": 8,
     "metadata": {},
     "output_type": "execute_result"
    },
    {
     "data": {
      "image/png": "[encoded data removed]",
      "text/plain": [
       "<Figure size 640x480 with 1 Axes>"
      ]
     },
     "metadata": {},
     "output_type": "display_data"
    }
   ],
   "source": [
    "sns.countplot(x='label', data=df)  # Visualize the sentiment/label distribution\n"
   ]
  },
  {
   "cell_type": "code",
   "execution_count": null,
   "id": "73f687db",
   "metadata": {
    "papermill": {
     "duration": 0.008608,
     "end_time": "2024-11-06T06:38:00.736558",
     "exception": false,
     "start_time": "2024-11-06T06:38:00.727950",
     "status": "completed"
    },
    "tags": []
   },
   "outputs": [],
   "source": []
  },
  {
   "cell_type": "markdown",
   "id": "3fb5f8f8",
   "metadata": {
    "papermill": {
     "duration": 0.00844,
     "end_time": "2024-11-06T06:38:00.753603",
     "exception": false,
     "start_time": "2024-11-06T06:38:00.745163",
     "status": "completed"
    },
    "tags": []
   },
   "source": [
    "<h1>TEXT PREPROCESSING¶</h1>\n",
    "<p>Text preprocessing is a crucial step in natural language processing (NLP) and machine learning tasks. It involves transforming raw text into a clean, structured format that can be more easily and effectively be analyzed by models.\n",
    "\n",
    "Data (Text) preprocessing will have the following steps:\n",
    "</p>\n",
    "<h4><b>1. Cleaning</b></h4>\n",
    "<h4><b>2. Tokenization</b></h4>\n",
    "<h4><b>3. Stop words removal</b></h4>\n",
    "<h4><b>4. Stemming or Lemmatization</b></h4>\n"
   ]
  },
  {
   "cell_type": "markdown",
   "id": "78560dad",
   "metadata": {
    "papermill": {
     "duration": 0.008086,
     "end_time": "2024-11-06T06:38:00.770258",
     "exception": false,
     "start_time": "2024-11-06T06:38:00.762172",
     "status": "completed"
    },
    "tags": []
   },
   "source": [
    "<h1>1. CLEANING THE DATASET¶</h1>\n",
    "<p>The \"Reviews\" column of our dataset has a variety of symbols, punctuation, special character etc in it that is not of our requirement. Example: , : ( ) ? . \" ; ! - + = ~ % etc are not of use.</p>"
   ]
  },
  {
   "cell_type": "code",
   "execution_count": 9,
   "id": "d332a14d",
   "metadata": {
    "execution": {
     "iopub.execute_input": "2024-11-06T06:38:00.788996Z",
     "iopub.status.busy": "2024-11-06T06:38:00.788559Z",
     "iopub.status.idle": "2024-11-06T06:38:00.794657Z",
     "shell.execute_reply": "2024-11-06T06:38:00.793532Z"
    },
    "papermill": {
     "duration": 0.018074,
     "end_time": "2024-11-06T06:38:00.796934",
     "exception": false,
     "start_time": "2024-11-06T06:38:00.778860",
     "status": "completed"
    },
    "tags": []
   },
   "outputs": [],
   "source": [
    "import re\n",
    "\n",
    "def clean_text(text):\n",
    "    text = re.sub(r'Ã[\\x80-\\xBF]+', ' ', text) \n",
    "    text = re.sub(r'[^a-zA-Z\\s]', ' ', text) \n",
    "    text = re.sub(r'\\s+', ' ', text)\n",
    "    text = text.strip()\n",
    "    return text.lower()  # Convert all to lowercase"
   ]
  },
  {
   "cell_type": "code",
   "execution_count": 10,
   "id": "7fe0ead7",
   "metadata": {
    "execution": {
     "iopub.execute_input": "2024-11-06T06:38:00.815748Z",
     "iopub.status.busy": "2024-11-06T06:38:00.815304Z",
     "iopub.status.idle": "2024-11-06T06:38:01.737300Z",
     "shell.execute_reply": "2024-11-06T06:38:01.736209Z"
    },
    "papermill": {
     "duration": 0.934575,
     "end_time": "2024-11-06T06:38:01.740059",
     "exception": false,
     "start_time": "2024-11-06T06:38:00.805484",
     "status": "completed"
    },
    "tags": []
   },
   "outputs": [],
   "source": [
    "df['Review'] = df['Review'].apply(clean_text) #applying the clean_text function to Review column"
   ]
  },
  {
   "cell_type": "code",
   "execution_count": 11,
   "id": "f1262b62",
   "metadata": {
    "execution": {
     "iopub.execute_input": "2024-11-06T06:38:01.760312Z",
     "iopub.status.busy": "2024-11-06T06:38:01.759137Z",
     "iopub.status.idle": "2024-11-06T06:38:01.765475Z",
     "shell.execute_reply": "2024-11-06T06:38:01.764468Z"
    },
    "papermill": {
     "duration": 0.018544,
     "end_time": "2024-11-06T06:38:01.767609",
     "exception": false,
     "start_time": "2024-11-06T06:38:01.749065",
     "status": "completed"
    },
    "tags": []
   },
   "outputs": [
    {
     "name": "stdout",
     "output_type": "stream",
     "text": [
      "i really like a sound hello everyone have a nice day stay safe always god bless\n"
     ]
    }
   ],
   "source": [
    "#VIEW THE CLEANED TEXTS IN \"Review\" column again\n",
    "pd.set_option('display.max_colwidth', None) #to view text fully and so that\n",
    "#pandas doesn't truncate the text\n",
    "\n",
    "print(df.iloc[283]['Review']) #view entry 283 "
   ]
  },
  {
   "cell_type": "markdown",
   "id": "13b64677",
   "metadata": {
    "papermill": {
     "duration": 0.00837,
     "end_time": "2024-11-06T06:38:01.784792",
     "exception": false,
     "start_time": "2024-11-06T06:38:01.776422",
     "status": "completed"
    },
    "tags": []
   },
   "source": [
    "<h1>2. TOKENIZATION</h1>\n",
    "<p>Tokenization is the process of breaking down a string of text into smaller units, or tokens, which essentially are meaningful words.\n",
    "\n",
    "We require an individual meaniningful entity to work upon which can only be words and not sentences.\n",
    "\n",
    "Example: good, great, wow etc signal a positive review.\n",
    "\n",
    "bad, lame, boring etc signal a negative review.</p>"
   ]
  },
  {
   "cell_type": "code",
   "execution_count": 12,
   "id": "574a7ccb",
   "metadata": {
    "execution": {
     "iopub.execute_input": "2024-11-06T06:38:01.804264Z",
     "iopub.status.busy": "2024-11-06T06:38:01.803264Z",
     "iopub.status.idle": "2024-11-06T06:38:11.999769Z",
     "shell.execute_reply": "2024-11-06T06:38:11.998362Z"
    },
    "papermill": {
     "duration": 10.209166,
     "end_time": "2024-11-06T06:38:12.002488",
     "exception": false,
     "start_time": "2024-11-06T06:38:01.793322",
     "status": "completed"
    },
    "tags": []
   },
   "outputs": [
    {
     "name": "stdout",
     "output_type": "stream",
     "text": [
      "['i', 'really', 'like', 'a', 'sound', 'hello', 'everyone', 'have', 'a', 'nice', 'day', 'stay', 'safe', 'always', 'god', 'bless']\n"
     ]
    }
   ],
   "source": [
    "import nltk\n",
    "from nltk.tokenize import word_tokenize\n",
    "\n",
    "def tokenize_text(text):\n",
    "    tokens = word_tokenize(text)\n",
    "    return tokens\n",
    "df[\"tokens\"] = df[\"Review\"].apply(tokenize_text)\n",
    "print(df.iloc[283][\"tokens\"])"
   ]
  },
  {
   "cell_type": "markdown",
   "id": "67ae310e",
   "metadata": {
    "papermill": {
     "duration": 0.008459,
     "end_time": "2024-11-06T06:38:12.019933",
     "exception": false,
     "start_time": "2024-11-06T06:38:12.011474",
     "status": "completed"
    },
    "tags": []
   },
   "source": [
    "<h1>3. REMOVING STOPWORDS¶</h1>\n",
    "<p>Stop words are words that have less meaningful value/contribution to our analysis. Words like i, he, she, they, went, want, for, in etc hold little to no value and hence are better off removed.\n",
    "\n",
    "You can also create a list of custom stop words specific to your domain. For example words like music, app, playlist etc are common stop words for this dataset.</p>\n"
   ]
  },
  {
   "cell_type": "code",
   "execution_count": 13,
   "id": "6822cd9a",
   "metadata": {
    "execution": {
     "iopub.execute_input": "2024-11-06T06:38:12.040360Z",
     "iopub.status.busy": "2024-11-06T06:38:12.039926Z",
     "iopub.status.idle": "2024-11-06T06:38:12.052333Z",
     "shell.execute_reply": "2024-11-06T06:38:12.051185Z"
    },
    "papermill": {
     "duration": 0.025794,
     "end_time": "2024-11-06T06:38:12.054773",
     "exception": false,
     "start_time": "2024-11-06T06:38:12.028979",
     "status": "completed"
    },
    "tags": []
   },
   "outputs": [
    {
     "data": {
      "text/plain": [
       "0                                                                                                                                                                                                                                             [great, music, service, the, audio, is, high, quality, and, the, app, is, easy, to, use, also, very, quick, and, friendly, support]\n",
       "1                                                                                                                                                                                                                                                                             [please, ignore, previous, negative, rating, this, app, is, super, great, i, give, it, five, stars]\n",
       "2                                                                                                                                                                                                                                                        [this, pop, up, get, the, best, spotify, experience, on, android, is, too, annoying, please, let, s, get, rid, of, this]\n",
       "3                                                                                                                                                                                                                                                                                                                       [really, buggy, and, terrible, to, use, as, of, recently]\n",
       "4                                                                                                                                                                                                                                                         [dear, spotify, why, do, i, get, songs, that, i, didn, t, put, on, my, playlist, and, why, do, we, have, shuffle, play]\n",
       "                                                                                                                                                                                           ...                                                                                                                                                                                   \n",
       "52697                                                                                                                                                                                                                                                                                                                                                            [yes, the, best]\n",
       "52698    [spotify, won, my, heart, in, feb, you, won, my, heart, with, music, and, lyrics, and, then, language, educational, podcasts, and, audio, books, you, finally, won, my, heart, over, with, just, a, free, trial, and, i, was, convinced, i, found, what, i, have, been, looking, for, all, these, while, and, finally, settling, down, with, this, like, marriage, haha]\n",
       "52699                                           [i, tried, to, open, the, app, and, it, wont, open, i, restarted, my, phone, but, ill, tap, the, icon, itll, freeze, and, then, send, me, to, my, home, screen, i, uninstalled, and, reinstalled, and, that, fixed, it, for, a, day, but, now, its, happening, again, i, dont, want, to, have, to, redownload, everything, again]\n",
       "52700                                                                                                                                                                                                                                                                                                                                                                      [good]\n",
       "52701                                                                                                                                                                                                                                                                                                              [nice, app, to, play, music, and, at, very, affordable, price]\n",
       "Name: tokens, Length: 52686, dtype: object"
      ]
     },
     "execution_count": 13,
     "metadata": {},
     "output_type": "execute_result"
    }
   ],
   "source": [
    "df[\"tokens\"]"
   ]
  },
  {
   "cell_type": "code",
   "execution_count": 14,
   "id": "d79b3f2e",
   "metadata": {
    "execution": {
     "iopub.execute_input": "2024-11-06T06:38:12.074463Z",
     "iopub.status.busy": "2024-11-06T06:38:12.074024Z",
     "iopub.status.idle": "2024-11-06T06:38:12.080122Z",
     "shell.execute_reply": "2024-11-06T06:38:12.079014Z"
    },
    "papermill": {
     "duration": 0.018675,
     "end_time": "2024-11-06T06:38:12.082545",
     "exception": false,
     "start_time": "2024-11-06T06:38:12.063870",
     "status": "completed"
    },
    "tags": []
   },
   "outputs": [],
   "source": [
    "from nltk.corpus import stopwords\n",
    "def remove_stopwords(tokens):\n",
    "    stop_words = set(stopwords.words(\"english\")) # Get the set of English stopwords\n",
    "    if custom_stopwords:\n",
    "        stop_words.update(custom_stopwords)\n",
    "    return [word for word in tokens if word.lower() not in stop_words] # Filter out stopwords"
   ]
  },
  {
   "cell_type": "code",
   "execution_count": 15,
   "id": "858dbb7b",
   "metadata": {
    "execution": {
     "iopub.execute_input": "2024-11-06T06:38:12.103215Z",
     "iopub.status.busy": "2024-11-06T06:38:12.102403Z",
     "iopub.status.idle": "2024-11-06T06:38:19.694346Z",
     "shell.execute_reply": "2024-11-06T06:38:19.693254Z"
    },
    "papermill": {
     "duration": 7.605553,
     "end_time": "2024-11-06T06:38:19.697116",
     "exception": false,
     "start_time": "2024-11-06T06:38:12.091563",
     "status": "completed"
    },
    "tags": []
   },
   "outputs": [],
   "source": [
    "custom_stopwords = {'app', 'music','play', 'spotify', 'song', 'songs', 'listen', 'playing','get', 'playlist'}\n",
    "\n",
    "df[\"filtered_tokens\"] = df[\"tokens\"].apply(remove_stopwords)"
   ]
  },
  {
   "cell_type": "code",
   "execution_count": 16,
   "id": "fb9516bf",
   "metadata": {
    "execution": {
     "iopub.execute_input": "2024-11-06T06:38:19.716891Z",
     "iopub.status.busy": "2024-11-06T06:38:19.716424Z",
     "iopub.status.idle": "2024-11-06T06:38:19.732821Z",
     "shell.execute_reply": "2024-11-06T06:38:19.731640Z"
    },
    "papermill": {
     "duration": 0.029031,
     "end_time": "2024-11-06T06:38:19.735241",
     "exception": false,
     "start_time": "2024-11-06T06:38:19.706210",
     "status": "completed"
    },
    "tags": []
   },
   "outputs": [
    {
     "data": {
      "text/html": [
       "<div>\n",
       "<style scoped>\n",
       "    .dataframe tbody tr th:only-of-type {\n",
       "        vertical-align: middle;\n",
       "    }\n",
       "\n",
       "    .dataframe tbody tr th {\n",
       "        vertical-align: top;\n",
       "    }\n",
       "\n",
       "    .dataframe thead th {\n",
       "        text-align: right;\n",
       "    }\n",
       "</style>\n",
       "<table border=\"1\" class=\"dataframe\">\n",
       "  <thead>\n",
       "    <tr style=\"text-align: right;\">\n",
       "      <th></th>\n",
       "      <th>Review</th>\n",
       "      <th>label</th>\n",
       "      <th>tokens</th>\n",
       "      <th>filtered_tokens</th>\n",
       "    </tr>\n",
       "  </thead>\n",
       "  <tbody>\n",
       "    <tr>\n",
       "      <th>0</th>\n",
       "      <td>great music service the audio is high quality and the app is easy to use also very quick and friendly support</td>\n",
       "      <td>POSITIVE</td>\n",
       "      <td>[great, music, service, the, audio, is, high, quality, and, the, app, is, easy, to, use, also, very, quick, and, friendly, support]</td>\n",
       "      <td>[great, service, audio, high, quality, easy, use, also, quick, friendly, support]</td>\n",
       "    </tr>\n",
       "    <tr>\n",
       "      <th>1</th>\n",
       "      <td>please ignore previous negative rating this app is super great i give it five stars</td>\n",
       "      <td>POSITIVE</td>\n",
       "      <td>[please, ignore, previous, negative, rating, this, app, is, super, great, i, give, it, five, stars]</td>\n",
       "      <td>[please, ignore, previous, negative, rating, super, great, give, five, stars]</td>\n",
       "    </tr>\n",
       "    <tr>\n",
       "      <th>2</th>\n",
       "      <td>this pop up get the best spotify experience on android is too annoying please let s get rid of this</td>\n",
       "      <td>NEGATIVE</td>\n",
       "      <td>[this, pop, up, get, the, best, spotify, experience, on, android, is, too, annoying, please, let, s, get, rid, of, this]</td>\n",
       "      <td>[pop, best, experience, android, annoying, please, let, rid]</td>\n",
       "    </tr>\n",
       "    <tr>\n",
       "      <th>3</th>\n",
       "      <td>really buggy and terrible to use as of recently</td>\n",
       "      <td>NEGATIVE</td>\n",
       "      <td>[really, buggy, and, terrible, to, use, as, of, recently]</td>\n",
       "      <td>[really, buggy, terrible, use, recently]</td>\n",
       "    </tr>\n",
       "    <tr>\n",
       "      <th>4</th>\n",
       "      <td>dear spotify why do i get songs that i didn t put on my playlist and why do we have shuffle play</td>\n",
       "      <td>NEGATIVE</td>\n",
       "      <td>[dear, spotify, why, do, i, get, songs, that, i, didn, t, put, on, my, playlist, and, why, do, we, have, shuffle, play]</td>\n",
       "      <td>[dear, put, shuffle]</td>\n",
       "    </tr>\n",
       "  </tbody>\n",
       "</table>\n",
       "</div>"
      ],
      "text/plain": [
       "                                                                                                          Review  \\\n",
       "0  great music service the audio is high quality and the app is easy to use also very quick and friendly support   \n",
       "1                            please ignore previous negative rating this app is super great i give it five stars   \n",
       "2            this pop up get the best spotify experience on android is too annoying please let s get rid of this   \n",
       "3                                                                really buggy and terrible to use as of recently   \n",
       "4               dear spotify why do i get songs that i didn t put on my playlist and why do we have shuffle play   \n",
       "\n",
       "      label  \\\n",
       "0  POSITIVE   \n",
       "1  POSITIVE   \n",
       "2  NEGATIVE   \n",
       "3  NEGATIVE   \n",
       "4  NEGATIVE   \n",
       "\n",
       "                                                                                                                                tokens  \\\n",
       "0  [great, music, service, the, audio, is, high, quality, and, the, app, is, easy, to, use, also, very, quick, and, friendly, support]   \n",
       "1                                  [please, ignore, previous, negative, rating, this, app, is, super, great, i, give, it, five, stars]   \n",
       "2             [this, pop, up, get, the, best, spotify, experience, on, android, is, too, annoying, please, let, s, get, rid, of, this]   \n",
       "3                                                                            [really, buggy, and, terrible, to, use, as, of, recently]   \n",
       "4              [dear, spotify, why, do, i, get, songs, that, i, didn, t, put, on, my, playlist, and, why, do, we, have, shuffle, play]   \n",
       "\n",
       "                                                                     filtered_tokens  \n",
       "0  [great, service, audio, high, quality, easy, use, also, quick, friendly, support]  \n",
       "1      [please, ignore, previous, negative, rating, super, great, give, five, stars]  \n",
       "2                       [pop, best, experience, android, annoying, please, let, rid]  \n",
       "3                                           [really, buggy, terrible, use, recently]  \n",
       "4                                                               [dear, put, shuffle]  "
      ]
     },
     "execution_count": 16,
     "metadata": {},
     "output_type": "execute_result"
    }
   ],
   "source": [
    "df.head()"
   ]
  },
  {
   "cell_type": "markdown",
   "id": "d01cba5d",
   "metadata": {
    "papermill": {
     "duration": 0.008737,
     "end_time": "2024-11-06T06:38:19.753280",
     "exception": false,
     "start_time": "2024-11-06T06:38:19.744543",
     "status": "completed"
    },
    "tags": []
   },
   "source": [
    "<h1>5. LEMMATIZATION</h1>\n",
    "<p>Lemmatization reduces words to their base or dictionary form (lemma) by considering their dictionary meaning hence providing more accuracy than stemming.\n",
    "\n",
    "For example:\n",
    "\n",
    "\"running\" becomes \"run,\"\n",
    "\n",
    "\"better\" becomes \"good.\"\n",
    "\n",
    "\"ring\" remains \"ring.\"</p>"
   ]
  },
  {
   "cell_type": "code",
   "execution_count": 17,
   "id": "9a5ac0ce",
   "metadata": {
    "execution": {
     "iopub.execute_input": "2024-11-06T06:38:19.773417Z",
     "iopub.status.busy": "2024-11-06T06:38:19.773006Z",
     "iopub.status.idle": "2024-11-06T06:38:21.210857Z",
     "shell.execute_reply": "2024-11-06T06:38:21.209451Z"
    },
    "papermill": {
     "duration": 1.451307,
     "end_time": "2024-11-06T06:38:21.213690",
     "exception": false,
     "start_time": "2024-11-06T06:38:19.762383",
     "status": "completed"
    },
    "tags": []
   },
   "outputs": [
    {
     "name": "stdout",
     "output_type": "stream",
     "text": [
      "Archive:  /usr/share/nltk_data/corpora/wordnet.zip\r\n",
      "   creating: /usr/share/nltk_data/corpora/wordnet/\r\n",
      "  inflating: /usr/share/nltk_data/corpora/wordnet/lexnames  \r\n",
      "  inflating: /usr/share/nltk_data/corpora/wordnet/data.verb  \r\n",
      "  inflating: /usr/share/nltk_data/corpora/wordnet/index.adv  \r\n",
      "  inflating: /usr/share/nltk_data/corpora/wordnet/adv.exc  \r\n",
      "  inflating: /usr/share/nltk_data/corpora/wordnet/index.verb  \r\n",
      "  inflating: /usr/share/nltk_data/corpora/wordnet/cntlist.rev  \r\n",
      "  inflating: /usr/share/nltk_data/corpora/wordnet/data.adj  \r\n",
      "  inflating: /usr/share/nltk_data/corpora/wordnet/index.adj  \r\n",
      "  inflating: /usr/share/nltk_data/corpora/wordnet/LICENSE  \r\n",
      "  inflating: /usr/share/nltk_data/corpora/wordnet/citation.bib  \r\n",
      "  inflating: /usr/share/nltk_data/corpora/wordnet/noun.exc  \r\n",
      "  inflating: /usr/share/nltk_data/corpora/wordnet/verb.exc  \r\n",
      "  inflating: /usr/share/nltk_data/corpora/wordnet/README  \r\n",
      "  inflating: /usr/share/nltk_data/corpora/wordnet/index.sense  \r\n",
      "  inflating: /usr/share/nltk_data/corpora/wordnet/data.noun  \r\n",
      "  inflating: /usr/share/nltk_data/corpora/wordnet/data.adv  \r\n",
      "  inflating: /usr/share/nltk_data/corpora/wordnet/index.noun  \r\n",
      "  inflating: /usr/share/nltk_data/corpora/wordnet/adj.exc  \r\n"
     ]
    }
   ],
   "source": [
    "!unzip /usr/share/nltk_data/corpora/wordnet.zip -d /usr/share/nltk_data/corpora/\n",
    "#to use wordnet; execute this (to avoid error)."
   ]
  },
  {
   "cell_type": "code",
   "execution_count": 18,
   "id": "3dc7217e",
   "metadata": {
    "execution": {
     "iopub.execute_input": "2024-11-06T06:38:21.235796Z",
     "iopub.status.busy": "2024-11-06T06:38:21.235315Z",
     "iopub.status.idle": "2024-11-06T06:38:21.241632Z",
     "shell.execute_reply": "2024-11-06T06:38:21.240512Z"
    },
    "papermill": {
     "duration": 0.020769,
     "end_time": "2024-11-06T06:38:21.244465",
     "exception": false,
     "start_time": "2024-11-06T06:38:21.223696",
     "status": "completed"
    },
    "tags": []
   },
   "outputs": [],
   "source": [
    "from nltk.stem import WordNetLemmatizer\n",
    "lemmatizer = WordNetLemmatizer()\n",
    "\n",
    "def lemmatize_tokens(tokens):\n",
    "    return [lemmatizer.lemmatize(word, pos='v') for word in tokens]"
   ]
  },
  {
   "cell_type": "code",
   "execution_count": 19,
   "id": "caec35f7",
   "metadata": {
    "execution": {
     "iopub.execute_input": "2024-11-06T06:38:21.265679Z",
     "iopub.status.busy": "2024-11-06T06:38:21.265230Z",
     "iopub.status.idle": "2024-11-06T06:38:26.614195Z",
     "shell.execute_reply": "2024-11-06T06:38:26.613018Z"
    },
    "papermill": {
     "duration": 5.362569,
     "end_time": "2024-11-06T06:38:26.616907",
     "exception": false,
     "start_time": "2024-11-06T06:38:21.254338",
     "status": "completed"
    },
    "tags": []
   },
   "outputs": [],
   "source": [
    "df[\"lemmatized_tokens\"] = df[\"filtered_tokens\"].apply(lemmatize_tokens)"
   ]
  },
  {
   "cell_type": "code",
   "execution_count": 20,
   "id": "53b4d57d",
   "metadata": {
    "execution": {
     "iopub.execute_input": "2024-11-06T06:38:26.638046Z",
     "iopub.status.busy": "2024-11-06T06:38:26.637080Z",
     "iopub.status.idle": "2024-11-06T06:38:26.655281Z",
     "shell.execute_reply": "2024-11-06T06:38:26.654051Z"
    },
    "papermill": {
     "duration": 0.03104,
     "end_time": "2024-11-06T06:38:26.657509",
     "exception": false,
     "start_time": "2024-11-06T06:38:26.626469",
     "status": "completed"
    },
    "tags": []
   },
   "outputs": [
    {
     "data": {
      "text/html": [
       "<div>\n",
       "<style scoped>\n",
       "    .dataframe tbody tr th:only-of-type {\n",
       "        vertical-align: middle;\n",
       "    }\n",
       "\n",
       "    .dataframe tbody tr th {\n",
       "        vertical-align: top;\n",
       "    }\n",
       "\n",
       "    .dataframe thead th {\n",
       "        text-align: right;\n",
       "    }\n",
       "</style>\n",
       "<table border=\"1\" class=\"dataframe\">\n",
       "  <thead>\n",
       "    <tr style=\"text-align: right;\">\n",
       "      <th></th>\n",
       "      <th>Review</th>\n",
       "      <th>label</th>\n",
       "      <th>tokens</th>\n",
       "      <th>filtered_tokens</th>\n",
       "      <th>lemmatized_tokens</th>\n",
       "    </tr>\n",
       "  </thead>\n",
       "  <tbody>\n",
       "    <tr>\n",
       "      <th>0</th>\n",
       "      <td>great music service the audio is high quality and the app is easy to use also very quick and friendly support</td>\n",
       "      <td>POSITIVE</td>\n",
       "      <td>[great, music, service, the, audio, is, high, quality, and, the, app, is, easy, to, use, also, very, quick, and, friendly, support]</td>\n",
       "      <td>[great, service, audio, high, quality, easy, use, also, quick, friendly, support]</td>\n",
       "      <td>[great, service, audio, high, quality, easy, use, also, quick, friendly, support]</td>\n",
       "    </tr>\n",
       "    <tr>\n",
       "      <th>1</th>\n",
       "      <td>please ignore previous negative rating this app is super great i give it five stars</td>\n",
       "      <td>POSITIVE</td>\n",
       "      <td>[please, ignore, previous, negative, rating, this, app, is, super, great, i, give, it, five, stars]</td>\n",
       "      <td>[please, ignore, previous, negative, rating, super, great, give, five, stars]</td>\n",
       "      <td>[please, ignore, previous, negative, rat, super, great, give, five, star]</td>\n",
       "    </tr>\n",
       "    <tr>\n",
       "      <th>2</th>\n",
       "      <td>this pop up get the best spotify experience on android is too annoying please let s get rid of this</td>\n",
       "      <td>NEGATIVE</td>\n",
       "      <td>[this, pop, up, get, the, best, spotify, experience, on, android, is, too, annoying, please, let, s, get, rid, of, this]</td>\n",
       "      <td>[pop, best, experience, android, annoying, please, let, rid]</td>\n",
       "      <td>[pop, best, experience, android, annoy, please, let, rid]</td>\n",
       "    </tr>\n",
       "    <tr>\n",
       "      <th>3</th>\n",
       "      <td>really buggy and terrible to use as of recently</td>\n",
       "      <td>NEGATIVE</td>\n",
       "      <td>[really, buggy, and, terrible, to, use, as, of, recently]</td>\n",
       "      <td>[really, buggy, terrible, use, recently]</td>\n",
       "      <td>[really, buggy, terrible, use, recently]</td>\n",
       "    </tr>\n",
       "    <tr>\n",
       "      <th>4</th>\n",
       "      <td>dear spotify why do i get songs that i didn t put on my playlist and why do we have shuffle play</td>\n",
       "      <td>NEGATIVE</td>\n",
       "      <td>[dear, spotify, why, do, i, get, songs, that, i, didn, t, put, on, my, playlist, and, why, do, we, have, shuffle, play]</td>\n",
       "      <td>[dear, put, shuffle]</td>\n",
       "      <td>[dear, put, shuffle]</td>\n",
       "    </tr>\n",
       "  </tbody>\n",
       "</table>\n",
       "</div>"
      ],
      "text/plain": [
       "                                                                                                          Review  \\\n",
       "0  great music service the audio is high quality and the app is easy to use also very quick and friendly support   \n",
       "1                            please ignore previous negative rating this app is super great i give it five stars   \n",
       "2            this pop up get the best spotify experience on android is too annoying please let s get rid of this   \n",
       "3                                                                really buggy and terrible to use as of recently   \n",
       "4               dear spotify why do i get songs that i didn t put on my playlist and why do we have shuffle play   \n",
       "\n",
       "      label  \\\n",
       "0  POSITIVE   \n",
       "1  POSITIVE   \n",
       "2  NEGATIVE   \n",
       "3  NEGATIVE   \n",
       "4  NEGATIVE   \n",
       "\n",
       "                                                                                                                                tokens  \\\n",
       "0  [great, music, service, the, audio, is, high, quality, and, the, app, is, easy, to, use, also, very, quick, and, friendly, support]   \n",
       "1                                  [please, ignore, previous, negative, rating, this, app, is, super, great, i, give, it, five, stars]   \n",
       "2             [this, pop, up, get, the, best, spotify, experience, on, android, is, too, annoying, please, let, s, get, rid, of, this]   \n",
       "3                                                                            [really, buggy, and, terrible, to, use, as, of, recently]   \n",
       "4              [dear, spotify, why, do, i, get, songs, that, i, didn, t, put, on, my, playlist, and, why, do, we, have, shuffle, play]   \n",
       "\n",
       "                                                                     filtered_tokens  \\\n",
       "0  [great, service, audio, high, quality, easy, use, also, quick, friendly, support]   \n",
       "1      [please, ignore, previous, negative, rating, super, great, give, five, stars]   \n",
       "2                       [pop, best, experience, android, annoying, please, let, rid]   \n",
       "3                                           [really, buggy, terrible, use, recently]   \n",
       "4                                                               [dear, put, shuffle]   \n",
       "\n",
       "                                                                   lemmatized_tokens  \n",
       "0  [great, service, audio, high, quality, easy, use, also, quick, friendly, support]  \n",
       "1          [please, ignore, previous, negative, rat, super, great, give, five, star]  \n",
       "2                          [pop, best, experience, android, annoy, please, let, rid]  \n",
       "3                                           [really, buggy, terrible, use, recently]  \n",
       "4                                                               [dear, put, shuffle]  "
      ]
     },
     "execution_count": 20,
     "metadata": {},
     "output_type": "execute_result"
    }
   ],
   "source": [
    "df.head()"
   ]
  },
  {
   "cell_type": "code",
   "execution_count": 21,
   "id": "f9ce50d0",
   "metadata": {
    "execution": {
     "iopub.execute_input": "2024-11-06T06:38:26.678907Z",
     "iopub.status.busy": "2024-11-06T06:38:26.678456Z",
     "iopub.status.idle": "2024-11-06T06:38:27.518926Z",
     "shell.execute_reply": "2024-11-06T06:38:27.517679Z"
    },
    "papermill": {
     "duration": 0.854178,
     "end_time": "2024-11-06T06:38:27.521604",
     "exception": false,
     "start_time": "2024-11-06T06:38:26.667426",
     "status": "completed"
    },
    "tags": []
   },
   "outputs": [],
   "source": [
    "from sklearn.feature_extraction.text import TfidfVectorizer\n",
    "\n",
    "def apply_tfidf(df):\n",
    "    df[\"tfidf_tokens\"] = df[\"lemmatized_tokens\"].apply(lambda x: ' '.join(x))\n",
    "    tfidf_vectorizer = TfidfVectorizer(stop_words='english', max_features=10000)\n",
    "    tfidf_matrix = tfidf_vectorizer.fit_transform(df[\"tfidf_tokens\"])\n",
    "    feature_names = tfidf_vectorizer.get_feature_names_out()\n",
    "    return tfidf_matrix,feature_names,tfidf_vectorizer\n",
    "\n",
    "tfidf_matrix, feature_names,tfidf_vectorizer = apply_tfidf(df)"
   ]
  },
  {
   "cell_type": "markdown",
   "id": "c88ec8a3",
   "metadata": {
    "papermill": {
     "duration": 0.009493,
     "end_time": "2024-11-06T06:38:27.541160",
     "exception": false,
     "start_time": "2024-11-06T06:38:27.531667",
     "status": "completed"
    },
    "tags": []
   },
   "source": [
    "<h1>SPLITTING DATASET</h1>"
   ]
  },
  {
   "cell_type": "code",
   "execution_count": 22,
   "id": "d91e7396",
   "metadata": {
    "execution": {
     "iopub.execute_input": "2024-11-06T06:38:27.562441Z",
     "iopub.status.busy": "2024-11-06T06:38:27.562030Z",
     "iopub.status.idle": "2024-11-06T06:38:27.592265Z",
     "shell.execute_reply": "2024-11-06T06:38:27.590709Z"
    },
    "papermill": {
     "duration": 0.044717,
     "end_time": "2024-11-06T06:38:27.595687",
     "exception": false,
     "start_time": "2024-11-06T06:38:27.550970",
     "status": "completed"
    },
    "tags": []
   },
   "outputs": [],
   "source": [
    "from sklearn.model_selection import train_test_split\n",
    "from sklearn.preprocessing import LabelEncoder\n",
    "\n",
    "x = tfidf_matrix\n",
    "# y = df[\"label\"]\n",
    "\n",
    "encoder = LabelEncoder()\n",
    "y = encoder.fit_transform(df['label']) \n",
    "\n",
    "x_train,x_test,y_train,y_test = train_test_split(x,y,test_size=0.2,random_state=42)"
   ]
  },
  {
   "cell_type": "code",
   "execution_count": 23,
   "id": "644cddb1",
   "metadata": {
    "execution": {
     "iopub.execute_input": "2024-11-06T06:38:27.620035Z",
     "iopub.status.busy": "2024-11-06T06:38:27.619013Z",
     "iopub.status.idle": "2024-11-06T06:38:27.625122Z",
     "shell.execute_reply": "2024-11-06T06:38:27.624034Z"
    },
    "papermill": {
     "duration": 0.020002,
     "end_time": "2024-11-06T06:38:27.627453",
     "exception": false,
     "start_time": "2024-11-06T06:38:27.607451",
     "status": "completed"
    },
    "tags": []
   },
   "outputs": [],
   "source": [
    "from sklearn.metrics import accuracy_score"
   ]
  },
  {
   "cell_type": "code",
   "execution_count": 24,
   "id": "b34f9f6b",
   "metadata": {
    "execution": {
     "iopub.execute_input": "2024-11-06T06:38:27.654509Z",
     "iopub.status.busy": "2024-11-06T06:38:27.653418Z",
     "iopub.status.idle": "2024-11-06T06:38:28.203469Z",
     "shell.execute_reply": "2024-11-06T06:38:28.202383Z"
    },
    "papermill": {
     "duration": 0.569091,
     "end_time": "2024-11-06T06:38:28.206448",
     "exception": false,
     "start_time": "2024-11-06T06:38:27.637357",
     "status": "completed"
    },
    "tags": []
   },
   "outputs": [
    {
     "name": "stdout",
     "output_type": "stream",
     "text": [
      "Logistic Regression Accuracy: 0.8783\n"
     ]
    }
   ],
   "source": [
    "from sklearn.linear_model import LogisticRegression\n",
    "\n",
    "model = LogisticRegression()\n",
    "model.fit(x_train, y_train)\n",
    "y_pred = model.predict(x_test)\n",
    "accuracy = accuracy_score(y_test, y_pred)\n",
    "print(f\"Logistic Regression Accuracy: {accuracy:.4f}\")"
   ]
  },
  {
   "cell_type": "code",
   "execution_count": 25,
   "id": "3863954a",
   "metadata": {
    "execution": {
     "iopub.execute_input": "2024-11-06T06:38:28.237549Z",
     "iopub.status.busy": "2024-11-06T06:38:28.237097Z",
     "iopub.status.idle": "2024-11-06T06:38:28.247789Z",
     "shell.execute_reply": "2024-11-06T06:38:28.246778Z"
    },
    "papermill": {
     "duration": 0.031951,
     "end_time": "2024-11-06T06:38:28.253391",
     "exception": false,
     "start_time": "2024-11-06T06:38:28.221440",
     "status": "completed"
    },
    "tags": []
   },
   "outputs": [
    {
     "name": "stdout",
     "output_type": "stream",
     "text": [
      "Predicted Sentiment for the review: POSITIVE\n"
     ]
    }
   ],
   "source": [
    "def predict_sentiment(review_text,tfidf_vectorizer,model):\n",
    "    review_tfidf = tfidf_vectorizer.transform([review_text])\n",
    "    prediction = model.predict(review_tfidf)\n",
    "    decoded_prediction = encoder.inverse_transform([prediction[0]])  # Decode label\n",
    "\n",
    "    return decoded_prediction[0]\n",
    "\n",
    "new_review = \"very good\"\n",
    "predicted_sentiment = predict_sentiment(new_review,tfidf_vectorizer,model)\n",
    "print(f\"Predicted Sentiment for the review: {predicted_sentiment}\")"
   ]
  },
  {
   "cell_type": "code",
   "execution_count": null,
   "id": "24da9621",
   "metadata": {
    "papermill": {
     "duration": 0.013973,
     "end_time": "2024-11-06T06:38:28.281782",
     "exception": false,
     "start_time": "2024-11-06T06:38:28.267809",
     "status": "completed"
    },
    "tags": []
   },
   "outputs": [],
   "source": []
  }
 ],
 "metadata": {
  "kaggle": {
   "accelerator": "none",
   "dataSources": [
    {
     "datasetId": 5782610,
     "sourceId": 9538515,
     "sourceType": "datasetVersion"
    }
   ],
   "dockerImageVersionId": 30786,
   "isGpuEnabled": false,
   "isInternetEnabled": false,
   "language": "python",
   "sourceType": "notebook"
  },
  "kernelspec": {
   "display_name": "Python 3",
   "language": "python",
   "name": "python3"
  },
  "language_info": {
   "codemirror_mode": {
    "name": "ipython",
    "version": 3
   },
   "file_extension": ".py",
   "mimetype": "text/x-python",
   "name": "python",
   "nbconvert_exporter": "python",
   "pygments_lexer": "ipython3",
   "version": "3.10.14"
  },
  "papermill": {
   "default_parameters": {},
   "duration": 34.944711,
   "end_time": "2024-11-06T06:38:29.434539",
   "environment_variables": {},
   "exception": null,
   "input_path": "__notebook__.ipynb",
   "output_path": "__notebook__.ipynb",
   "parameters": {},
   "start_time": "2024-11-06T06:37:54.489828",
   "version": "2.6.0"
  }
 },
 "nbformat": 4,
 "nbformat_minor": 5
}
